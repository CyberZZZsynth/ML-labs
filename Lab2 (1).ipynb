{
 "cells": [
  {
   "cell_type": "markdown",
   "id": "ddd93cce",
   "metadata": {},
   "source": [
    "# Лабораторная работа 2"
   ]
  },
  {
   "cell_type": "markdown",
   "id": "9aec78af",
   "metadata": {},
   "source": [
    "выполнил студент группы М8О-201Б-20"
   ]
  },
  {
   "cell_type": "markdown",
   "id": "7a9805ff",
   "metadata": {},
   "source": [
    "Зайцев Кирилл Владимирович"
   ]
  },
  {
   "cell_type": "markdown",
   "id": "c6b6cd28",
   "metadata": {},
   "source": [
    "Для начала подключим все необходимые библиотеки python и загрузим данные, как в семинаре 4.4"
   ]
  },
  {
   "cell_type": "code",
   "execution_count": 1,
   "id": "8063bb79",
   "metadata": {},
   "outputs": [],
   "source": [
    "import torch\n",
    "import torch.nn as nn\n",
    "import torch.nn.functional as F\n",
    "from torchvision import transforms, datasets, models\n",
    "import numpy as np\n",
    "import matplotlib.pyplot as plt\n",
    "from torch.autograd import Variable\n",
    "from collections import namedtuple\n",
    "from IPython.display import Image\n",
    "\n",
    "transform = transforms.Compose(\n",
    "    [transforms.ToTensor(),\n",
    "    transforms.Normalize((0.5,), (0.5,))])\n",
    "import torchvision\n",
    "import torchvision.transforms as transforms\n",
    "%matplotlib inline\n",
    "np.random.seed(2018)\n",
    "\n",
    "from torchvision.datasets import FashionMNIST\n",
    "\n",
    "activation =  {'ELU': torch.nn.ELU(), 'Hardtanh': torch.nn.Hardtanh(),\n",
    "               'LeakyReLU': torch.nn.LeakyReLU(), 'LogSigmoid': torch.nn.LogSigmoid(),\n",
    "               'PReLU': torch.nn.PReLU(), 'ReLU': torch.nn.ReLU(), 'ReLU6': torch.nn.ReLU6(),\n",
    "               'RReLU': torch.nn.RReLU(), 'SELU': torch.nn.SELU(), 'CELU': torch.nn.CELU(),\n",
    "               'Sigmoid': torch.nn.Sigmoid(), 'Softplus': torch.nn.Softplus(),\n",
    "               'Softshrink': torch.nn.Softshrink(), 'Softsign': torch.nn.Softsign(),\n",
    "               'Tanh': torch.nn.Tanh(), 'Tanhshrink': torch.nn.Tanhshrink(),\n",
    "               'Hardshrink': torch.nn.Hardshrink()}\n"
   ]
  },
  {
   "cell_type": "code",
   "execution_count": 2,
   "id": "053284a3",
   "metadata": {},
   "outputs": [
    {
     "name": "stderr",
     "output_type": "stream",
     "text": [
      "C:\\Anaconda\\lib\\site-packages\\torchvision\\datasets\\mnist.py:75: UserWarning: train_data has been renamed data\n",
      "  warnings.warn(\"train_data has been renamed data\")\n",
      "C:\\Anaconda\\lib\\site-packages\\torchvision\\datasets\\mnist.py:65: UserWarning: train_labels has been renamed targets\n",
      "  warnings.warn(\"train_labels has been renamed targets\")\n",
      "C:\\Anaconda\\lib\\site-packages\\torchvision\\datasets\\mnist.py:80: UserWarning: test_data has been renamed data\n",
      "  warnings.warn(\"test_data has been renamed data\")\n",
      "C:\\Anaconda\\lib\\site-packages\\torchvision\\datasets\\mnist.py:70: UserWarning: test_labels has been renamed targets\n",
      "  warnings.warn(\"test_labels has been renamed targets\")\n"
     ]
    },
    {
     "name": "stdout",
     "output_type": "stream",
     "text": [
      "torch.Size([28, 28])\n",
      "torch.Size([28, 28])\n",
      "torch.Size([28, 28])\n",
      "torch.Size([28, 28])\n",
      "torch.Size([28, 28])\n",
      "torch.Size([28, 28])\n",
      "torch.Size([28, 28])\n",
      "torch.Size([28, 28])\n"
     ]
    },
    {
     "data": {
      "image/png": "[encoded data removed]",
      "text/plain": [
       "<Figure size 720x360 with 8 Axes>"
      ]
     },
     "metadata": {
      "needs_background": "light"
     },
     "output_type": "display_data"
    }
   ],
   "source": [
    "# Fashion Class that enables the Dataset download and basic transformations\n",
    "class Fashion(torchvision.datasets.FashionMNIST):\n",
    "    def __init__(self, root, train=True, transform=None, target_transform=None, download=False):\n",
    "        self.urls = [\n",
    "            'http://fashion-mnist.s3-website.eu-central-1.amazonaws.com/train-images-idx3-ubyte.gz',\n",
    "            'http://fashion-mnist.s3-website.eu-central-1.amazonaws.com/train-labels-idx1-ubyte.gz',\n",
    "            'http://fashion-mnist.s3-website.eu-central-1.amazonaws.com/t10k-images-idx3-ubyte.gz',\n",
    "            'http://fashion-mnist.s3-website.eu-central-1.amazonaws.com/t10k-labels-idx1-ubyte.gz',\n",
    "        ]\n",
    "        super(torchvision.datasets.FashionMNIST, self).__init__(\n",
    "            root, train=train, transform=transform, target_transform=target_transform, download=download\n",
    "        ) \n",
    "\n",
    "def decode_label(l):\n",
    "    return [\"Top\",\n",
    "     \"Trouser\",\n",
    "     \"Pullover\",\n",
    "     \"Dress\",\n",
    "     \"Coat\",\n",
    "     \"Sandal\",\n",
    "     \"Shirt\",\n",
    "     \"Sneaker\",\n",
    "     \"Bag\",\n",
    "     \"Ankle boot\"\n",
    "    ][l]\n",
    "\n",
    "transform=transforms.Compose([transforms.ToTensor(), \\\n",
    "                              transforms.Normalize((0.1307,), (0.3081,))])\n",
    "train_data = FashionMNIST('./data',\n",
    "    download=True,\n",
    "    train=True,\n",
    "    transform=transform)\n",
    "\n",
    "test_data = torchvision.datasets.FashionMNIST('./data',\n",
    "    download=True,\n",
    "    train=False,\n",
    "    transform=transform)\n",
    "\n",
    "\n",
    "x_train = train_data.train_data\n",
    "y_train = train_data.train_labels\n",
    "x_validation = test_data.test_data\n",
    "y_validation = test_data.test_labels\n",
    "\n",
    "x_validation = x_validation.unsqueeze(1).float()\n",
    "x_train = x_train.unsqueeze(1).float()\n",
    "\n",
    "idxs = np.random.randint(100, size=8)\n",
    "f, a = plt.subplots(2, 4, figsize=(10, 5))\n",
    "for i in range(8):\n",
    "    X = train_data.train_data[idxs[i]]\n",
    "    Y = train_data.train_labels[idxs[i]]\n",
    "    r, c = i // 4, i % 4\n",
    "    a[r][c].set_title(decode_label(Y))\n",
    "    a[r][c].axis('off')\n",
    "    a[r][c].imshow(X.numpy())\n",
    "    print(X.shape)\n",
    "plt.draw();"
   ]
  },
  {
   "cell_type": "markdown",
   "id": "41a60a71",
   "metadata": {},
   "source": [
    "Создадим класс сети LeNet5, в конструкторе которого будет указываться функция активации"
   ]
  },
  {
   "cell_type": "code",
   "execution_count": 3,
   "id": "2cfb47ae",
   "metadata": {},
   "outputs": [],
   "source": [
    "class LeNet5(torch.nn.Module):\n",
    "    def __init__(self, activ):\n",
    "        super(LeNet5, self).__init__()\n",
    "        \n",
    "        self.conv1 = torch.nn.Conv2d(\n",
    "            in_channels=1, out_channels=6, kernel_size=5, padding=2)\n",
    "        self.act1  = activ\n",
    "        self.pool1 = torch.nn.AvgPool2d(kernel_size=2, stride=2)\n",
    "       \n",
    "        self.conv2 = torch.nn.Conv2d(\n",
    "            in_channels=6, out_channels=16, kernel_size=5, padding=0)\n",
    "        self.act2  = activ\n",
    "        self.pool2 = torch.nn.AvgPool2d(kernel_size=2, stride=2)\n",
    "        \n",
    "        self.fc1   = torch.nn.Linear(5 * 5 * 16, 120)\n",
    "        self.act3  = activ\n",
    "        \n",
    "        self.fc2   = torch.nn.Linear(120, 84)\n",
    "        self.act4  = activ\n",
    "        \n",
    "        self.fc3   = torch.nn.Linear(84, 10)\n",
    "    \n",
    "    def forward(self, x):\n",
    "        \n",
    "        x = self.conv1(x)\n",
    "        x = self.act1(x)\n",
    "        x = self.pool1(x)\n",
    "        \n",
    "        x = self.conv2(x)\n",
    "        x = self.act2(x)\n",
    "        x = self.pool2(x)\n",
    "        \n",
    "        x = x.view(x.size(0), x.size(1) * x.size(2) * x.size(3))\n",
    "\n",
    "        x = self.fc1(x)\n",
    "        x = self.act3(x)\n",
    "        x = self.fc2(x)\n",
    "        x = self.act4(x)\n",
    "        x = self.fc3(x)\n",
    "        \n",
    "        return x"
   ]
  },
  {
   "cell_type": "code",
   "execution_count": 4,
   "id": "56672a36",
   "metadata": {},
   "outputs": [],
   "source": [
    "def training(net, optimizer, batch_size, x_train, y_train, x_validation, y_validation):\n",
    "    loss = torch.nn.CrossEntropyLoss()\n",
    "    train_accuracy = []\n",
    "    validation_accuracy  = []\n",
    "    validation_loss = []\n",
    "    train_loss = []\n",
    "    xlen = len(x_train)\n",
    "    for epoch in range(40):\n",
    "        order =  np.random.permutation(xlen)\n",
    "        for start_index in range(0, xlen, batch_size):\n",
    "            optimizer.zero_grad()\n",
    "            batch_indexes = order[start_index:start_index+batch_size]\n",
    "            x_batch = x_train[batch_indexes]\n",
    "            y_batch = y_train[batch_indexes]\n",
    "            preds = net.forward(x_batch)\n",
    "            \n",
    "            if (start_index % 100000 == 0):\n",
    "                train_loss.append(loss(preds, y_batch))    \n",
    "                train_acc = (preds.argmax(dim=1) == y_batch).float().mean()\n",
    "                train_accuracy.append(train_acc)\n",
    "\n",
    "            loss_value = loss(preds, y_batch)\n",
    "            loss_value.backward()\n",
    "\n",
    "            optimizer.step()\n",
    "\n",
    "        test_preds = net.forward(x_validation)\n",
    "        validation_loss.append(loss(test_preds, y_validation).data.cpu())    \n",
    "        test_accuracy = (test_preds.argmax(dim=1) == y_validation).float().mean().data.cpu()\n",
    "        validation_accuracy.append(test_accuracy)\n",
    "        \n",
    "    return train_accuracy, validation_accuracy"
   ]
  },
  {
   "cell_type": "markdown",
   "id": "b1fc403b",
   "metadata": {},
   "source": [
    "## Тестирование разных функций активации"
   ]
  },
  {
   "cell_type": "markdown",
   "id": "1e492e2f",
   "metadata": {},
   "source": [
    "$Tanh$"
   ]
  },
  {
   "cell_type": "code",
   "execution_count": 5,
   "id": "0c78f363",
   "metadata": {},
   "outputs": [
    {
     "data": {
      "image/png": "[encoded data removed]",
      "text/plain": [
       "<Figure size 432x288 with 1 Axes>"
      ]
     },
     "metadata": {
      "needs_background": "light"
     },
     "output_type": "display_data"
    }
   ],
   "source": [
    "testnet = LeNet5(activation.get('Tanh'))\n",
    "Tanh_train, Tanh_test = training(testnet, torch.optim.Adam(testnet.parameters(), lr=1.0e-3), 100, x_train, y_train, x_validation, y_validation)\n",
    "plt.plot(Tanh_train, 'g', label = \"test\")\n",
    "plt.plot(Tanh_test, 'r', label = \"train\")\n",
    "plt.show()"
   ]
  },
  {
   "cell_type": "markdown",
   "id": "bf880c5e",
   "metadata": {},
   "source": [
    "$Elu$"
   ]
  },
  {
   "cell_type": "code",
   "execution_count": 6,
   "id": "51337c6f",
   "metadata": {},
   "outputs": [],
   "source": [
    "testnet2 = LeNet5(activation.get('ELU'))\n",
    "Elu_train, Elu_test = training(testnet2, torch.optim.Adam(testnet2.parameters(), lr=1.0e-3), 100, x_train, y_train, x_validation, y_validation)\n"
   ]
  },
  {
   "cell_type": "markdown",
   "id": "f4826d19",
   "metadata": {},
   "source": [
    "$Hardtanh$"
   ]
  },
  {
   "cell_type": "code",
   "execution_count": 7,
   "id": "21a5681d",
   "metadata": {},
   "outputs": [],
   "source": [
    "testnet3 = LeNet5(activation.get('Hardtanh'))\n",
    "Hardtanh_train, Hardtanh_test = training(testnet3, torch.optim.Adam(testnet3.parameters(), lr=1.0e-3), 100, x_train, y_train, x_validation, y_validation)\n"
   ]
  },
  {
   "cell_type": "markdown",
   "id": "4e58cc8c",
   "metadata": {},
   "source": [
    "$LogSigmoid$"
   ]
  },
  {
   "cell_type": "code",
   "execution_count": 8,
   "id": "5672ddb1",
   "metadata": {},
   "outputs": [],
   "source": [
    "testnet4 = LeNet5(activation.get('LogSigmoid'))\n",
    "LogSigmoid_train, LogSigmoid_test = training(testnet4, torch.optim.Adam(testnet4.parameters(), lr=1.0e-3), 100, x_train, y_train, x_validation, y_validation)"
   ]
  },
  {
   "cell_type": "markdown",
   "id": "de4a022d",
   "metadata": {},
   "source": [
    "$ReLU$"
   ]
  },
  {
   "cell_type": "code",
   "execution_count": 9,
   "id": "f52a81d4",
   "metadata": {},
   "outputs": [],
   "source": [
    "testnet5 = LeNet5(activation.get('ReLU'))\n",
    "ReLU_train, ReLU_test = training(testnet5, torch.optim.Adam(testnet5.parameters(), lr=1.0e-3), 100, x_train, y_train, x_validation, y_validation)"
   ]
  },
  {
   "cell_type": "markdown",
   "id": "f084db95",
   "metadata": {},
   "source": [
    "$Sigmoid$"
   ]
  },
  {
   "cell_type": "code",
   "execution_count": 10,
   "id": "e3a76c3b",
   "metadata": {},
   "outputs": [],
   "source": [
    "testnet6 = LeNet5(activation.get('Sigmoid'))\n",
    "Sigmoid_train, Sigmoid_test = training(testnet6, torch.optim.Adam(testnet6.parameters(), lr=1.0e-3), 100, x_train, y_train, x_validation, y_validation)"
   ]
  },
  {
   "cell_type": "markdown",
   "id": "d187f911",
   "metadata": {},
   "source": [
    "График сравнения различных функций"
   ]
  },
  {
   "cell_type": "code",
   "execution_count": 11,
   "id": "5df5c6a1",
   "metadata": {},
   "outputs": [
    {
     "data": {
      "text/plain": [
       "<matplotlib.legend.Legend at 0x167800bfdf0>"
      ]
     },
     "execution_count": 11,
     "metadata": {},
     "output_type": "execute_result"
    },
    {
     "data": {
      "image/png": "[encoded data removed]",
      "text/plain": [
       "<Figure size 432x288 with 1 Axes>"
      ]
     },
     "metadata": {
      "needs_background": "light"
     },
     "output_type": "display_data"
    }
   ],
   "source": [
    "plt.plot(Tanh_test, 'r', label = \"Tanh\")\n",
    "plt.plot(Elu_test, 'darkorange', label = \"ELU\")\n",
    "plt.plot(Hardtanh_test, 'y', label = \"Hardtanh\")\n",
    "plt.plot(LogSigmoid_test, 'g', label = \"LogSigmoid\")\n",
    "plt.plot(ReLU_test, 'b', label = \"ReLU\")\n",
    "plt.plot(Sigmoid_test, 'k', label = \"Sigmoid\")\n",
    "plt.legend()"
   ]
  },
  {
   "cell_type": "markdown",
   "id": "5a05b99b",
   "metadata": {},
   "source": [
    "Как видно, лучшая точность получилась у функции активации $Sigmoid$"
   ]
  },
  {
   "cell_type": "markdown",
   "id": "0391aa85",
   "metadata": {},
   "source": [
    "## Тестирование различных оптимизаторов"
   ]
  },
  {
   "cell_type": "markdown",
   "id": "78a86a4c",
   "metadata": {},
   "source": [
    "Для функции $Adam$ тест уже проведён. Теперь исследуем алгоритмы $RMSProp$, $Ada$, $SGD$, $Momentum$"
   ]
  },
  {
   "cell_type": "markdown",
   "id": "326cf667",
   "metadata": {},
   "source": [
    "$RMSProp$"
   ]
  },
  {
   "cell_type": "code",
   "execution_count": 12,
   "id": "04186ce7",
   "metadata": {},
   "outputs": [],
   "source": [
    "testmod1 = LeNet5(activation.get('Tanh'))\n",
    "RMSProp_train, RMSProp_test = training(testmod1, torch.optim.RMSprop(testmod1.parameters(), lr=1.0e-3), 100, x_train, y_train, x_validation, y_validation)"
   ]
  },
  {
   "cell_type": "markdown",
   "id": "fbfa1e84",
   "metadata": {},
   "source": [
    "$Ada$"
   ]
  },
  {
   "cell_type": "code",
   "execution_count": 13,
   "id": "ef71a577",
   "metadata": {},
   "outputs": [],
   "source": [
    "testmod2 = LeNet5(activation.get('Tanh'))\n",
    "Ada_train, Ada_test = training(testmod2, torch.optim.Adagrad(testmod2.parameters(), lr=1.0e-3), 100, x_train, y_train, x_validation, y_validation)"
   ]
  },
  {
   "cell_type": "markdown",
   "id": "45225aeb",
   "metadata": {},
   "source": [
    "$SGD$"
   ]
  },
  {
   "cell_type": "code",
   "execution_count": 14,
   "id": "f4cbf661",
   "metadata": {},
   "outputs": [],
   "source": [
    "testmod3 = LeNet5(activation.get('Tanh'))\n",
    "SGD_train, SGD_test = training(testmod3, torch.optim.SGD(testmod3.parameters(), lr=1.0e-3), 100, x_train, y_train, x_validation, y_validation)"
   ]
  },
  {
   "cell_type": "markdown",
   "id": "9dcfb36e",
   "metadata": {},
   "source": [
    "$Nesterov$"
   ]
  },
  {
   "cell_type": "code",
   "execution_count": 15,
   "id": "65251a31",
   "metadata": {},
   "outputs": [],
   "source": [
    "testmod4 = LeNet5(activation.get('Tanh'))\n",
    "Nesterov_train, Nesterov_test = training(testmod4, torch.optim.SGD(testmod4.parameters(), lr=1.0e-3, momentum = 0.9, nesterov = True), 100, x_train, y_train, x_validation, y_validation)"
   ]
  },
  {
   "cell_type": "markdown",
   "id": "ffe85c80",
   "metadata": {},
   "source": [
    "$Momentum$"
   ]
  },
  {
   "cell_type": "code",
   "execution_count": 16,
   "id": "310b5c17",
   "metadata": {},
   "outputs": [],
   "source": [
    "testmod5 = LeNet5(activation.get('Tanh'))\n",
    "Momentum_train, Momentum_test = training(testmod5, torch.optim.SGD(testmod5.parameters(), lr=1.0e-3, momentum = 0.9), 100, x_train, y_train, x_validation, y_validation)"
   ]
  },
  {
   "cell_type": "markdown",
   "id": "1130c70b",
   "metadata": {},
   "source": [
    "График сравнения оптимизаторов"
   ]
  },
  {
   "cell_type": "code",
   "execution_count": 17,
   "id": "dada1ed4",
   "metadata": {},
   "outputs": [
    {
     "data": {
      "text/plain": [
       "<matplotlib.legend.Legend at 0x1678019b280>"
      ]
     },
     "execution_count": 17,
     "metadata": {},
     "output_type": "execute_result"
    },
    {
     "data": {
      "image/png": "[encoded data removed]",
      "text/plain": [
       "<Figure size 432x288 with 1 Axes>"
      ]
     },
     "metadata": {
      "needs_background": "light"
     },
     "output_type": "display_data"
    }
   ],
   "source": [
    "plt.plot(Sigmoid_test, 'r', label = \"Adam\")\n",
    "plt.plot(RMSProp_test, 'darkorange', label = \"RMSProp\")\n",
    "plt.plot(Ada_test, 'y', label = \"Ada\")\n",
    "plt.plot(SGD_test, 'g', label = \"SGD\")\n",
    "plt.plot(Nesterov_test, 'b', label = \"Nesterov\")\n",
    "plt.plot(Momentum_test, 'k', label = \"Momentum\")\n",
    "plt.legend()"
   ]
  },
  {
   "cell_type": "markdown",
   "id": "7e089dee",
   "metadata": {},
   "source": [
    "## Тестирование различных размером батча"
   ]
  },
  {
   "cell_type": "markdown",
   "id": "9b092a2b",
   "metadata": {},
   "source": [
    "батч 10"
   ]
  },
  {
   "cell_type": "code",
   "execution_count": 18,
   "id": "52d0cd52",
   "metadata": {},
   "outputs": [],
   "source": [
    "batch10_net = LeNet5(activation.get('Sigmoid'))\n",
    "batch10_train, batch10_test = training(batch10_net, torch.optim.Adam(batch10_net.parameters(), lr=1.0e-3), 10, x_train, y_train, x_validation, y_validation)"
   ]
  },
  {
   "cell_type": "markdown",
   "id": "0f977039",
   "metadata": {},
   "source": [
    "батч 100 рассмотрен в тестах выше"
   ]
  },
  {
   "cell_type": "markdown",
   "id": "dd83a67a",
   "metadata": {},
   "source": [
    "батч 500"
   ]
  },
  {
   "cell_type": "code",
   "execution_count": 19,
   "id": "86be49af",
   "metadata": {},
   "outputs": [],
   "source": [
    "batch500_net = LeNet5(activation.get('Sigmoid'))\n",
    "batch500_train, batch500_test = training(batch500_net, torch.optim.Adam(batch500_net.parameters(), lr=1.0e-3), 500, x_train, y_train, x_validation, y_validation)"
   ]
  },
  {
   "cell_type": "markdown",
   "id": "6b988b15",
   "metadata": {},
   "source": [
    "График сравнения батчей"
   ]
  },
  {
   "cell_type": "code",
   "execution_count": 20,
   "id": "e112eb94",
   "metadata": {},
   "outputs": [
    {
     "data": {
      "text/plain": [
       "<matplotlib.legend.Legend at 0x1678017f8e0>"
      ]
     },
     "execution_count": 20,
     "metadata": {},
     "output_type": "execute_result"
    },
    {
     "data": {
      "image/png": "[encoded data removed]",
      "text/plain": [
       "<Figure size 432x288 with 1 Axes>"
      ]
     },
     "metadata": {
      "needs_background": "light"
     },
     "output_type": "display_data"
    }
   ],
   "source": [
    "plt.plot(batch10_test, 'r', label = \"10\")\n",
    "plt.plot(Sigmoid_test, 'darkorange', label = \"100\")\n",
    "plt.plot(batch500_test, 'y', label = \"500\")\n",
    "plt.legend()"
   ]
  },
  {
   "cell_type": "code",
   "execution_count": 21,
   "id": "7cac0998",
   "metadata": {},
   "outputs": [],
   "source": [
    "def init_xavier(m):\n",
    "    if type(m) == nn.Linear:\n",
    "        fan_in = m.weight.size()[1]\n",
    "        fan_out = m.weight.size()[0]\n",
    "        std = np.sqrt(2.0 / (fan_in + fan_out))\n",
    "        m.weight.data.normal_(0,std)"
   ]
  },
  {
   "cell_type": "code",
   "execution_count": 22,
   "id": "fcbcf266",
   "metadata": {},
   "outputs": [
    {
     "data": {
      "text/plain": [
       "<matplotlib.legend.Legend at 0x167802e85b0>"
      ]
     },
     "execution_count": 22,
     "metadata": {},
     "output_type": "execute_result"
    },
    {
     "data": {
      "image/png": "[encoded data removed]",
      "text/plain": [
       "<Figure size 432x288 with 1 Axes>"
      ]
     },
     "metadata": {
      "needs_background": "light"
     },
     "output_type": "display_data"
    }
   ],
   "source": [
    "xavier = LeNet5(activation.get('Sigmoid'))\n",
    "xavier.apply(init_xavier)\n",
    "xavtrain, xavtest = training(xavier, torch.optim.Adam(xavier.parameters(), lr=1.0e-3), 100, x_train, y_train, x_validation, y_validation)\n",
    "\n",
    "plt.plot(xavtest, 'darkorange', label = \"Xavier\")\n",
    "plt.plot(Tanh_test, 'r', label = \"Default\")\n",
    "plt.legend()"
   ]
  },
  {
   "cell_type": "markdown",
   "id": "27182d44",
   "metadata": {},
   "source": [
    "# Вывод"
   ]
  },
  {
   "cell_type": "markdown",
   "id": "b407bdff",
   "metadata": {},
   "source": [
    "Наилучшей функцией активации оказалась сигмоида, оптимизатор --- Адам, сравнимы с ним по точности RMSProp и Nesterov, а оптимальным оказался размер батча от 50 до 100. Также я добавил инициализацию Ксавьера, которая улучшила точность работы сети."
   ]
  },
  {
   "cell_type": "code",
   "execution_count": null,
   "id": "be8f37d1",
   "metadata": {},
   "outputs": [],
   "source": []
  }
 ],
 "metadata": {
  "kernelspec": {
   "display_name": "Python 3 (ipykernel)",
   "language": "python",
   "name": "python3"
  },
  "language_info": {
   "codemirror_mode": {
    "name": "ipython",
    "version": 3
   },
   "file_extension": ".py",
   "mimetype": "text/x-python",
   "name": "python",
   "nbconvert_exporter": "python",
   "pygments_lexer": "ipython3",
   "version": "3.9.7"
  }
 },
 "nbformat": 4,
 "nbformat_minor": 5
}
